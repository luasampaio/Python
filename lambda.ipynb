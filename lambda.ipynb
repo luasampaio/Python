{
  "nbformat": 4,
  "nbformat_minor": 0,
  "metadata": {
    "colab": {
      "provenance": [],
      "authorship_tag": "ABX9TyPaubeDU018lLarUahRpkgN",
      "include_colab_link": true
    },
    "kernelspec": {
      "name": "python3",
      "display_name": "Python 3"
    },
    "language_info": {
      "name": "python"
    }
  },
  "cells": [
    {
      "cell_type": "markdown",
      "metadata": {
        "id": "view-in-github",
        "colab_type": "text"
      },
      "source": [
        "<a href=\"https://colab.research.google.com/github/luasampaio/Python/blob/master/lambda.ipynb\" target=\"_parent\"><img src=\"https://colab.research.google.com/assets/colab-badge.svg\" alt=\"Open In Colab\"/></a>"
      ]
    },
    {
      "cell_type": "code",
      "source": [
        "# Instala o pacote watermark. Utilizado para obter informações sobre as versões de outros pacotes utilizados neste Jupyter Notebook.\n",
        "# https://pypi.org/project/watermark/\n",
        "%pip install -q watermark"
      ],
      "metadata": {
        "id": "SLAVbFz_609s"
      },
      "execution_count": 1,
      "outputs": []
    },
    {
      "cell_type": "code",
      "source": [
        "# Carrega o pacote watermark como um comando mágico no Jupyter Notebook.\n",
        "%load_ext watermark"
      ],
      "metadata": {
        "id": "FcpS556p7BpH"
      },
      "execution_count": 2,
      "outputs": []
    },
    {
      "cell_type": "code",
      "source": [
        "# Versão do Python e de todos os pacotes importados neste projeto.\n",
        "%watermark -a \"Luciana Sampaio\" -gu \"luasampaio\" --python --iversions --watermark"
      ],
      "metadata": {
        "colab": {
          "base_uri": "https://localhost:8080/"
        },
        "id": "MzOfA6--7F2h",
        "outputId": "afa5ccb5-dd33-4256-bc34-1fe8693a4d68"
      },
      "execution_count": 3,
      "outputs": [
        {
          "output_type": "stream",
          "name": "stdout",
          "text": [
            "Author: Luciana Sampaio\n",
            "\n",
            "Github username: luasampaio\n",
            "\n",
            "Python implementation: CPython\n",
            "Python version       : 3.10.12\n",
            "IPython version      : 7.34.0\n",
            "\n",
            "Watermark: 2.4.3\n",
            "\n"
          ]
        }
      ]
    },
    {
      "cell_type": "code",
      "execution_count": 4,
      "metadata": {
        "colab": {
          "base_uri": "https://localhost:8080/"
        },
        "id": "6XA6Y2vp6Kgu",
        "outputId": "de5f9a6a-8b3f-4f9e-b644-8225ce8b506f"
      },
      "outputs": [
        {
          "output_type": "stream",
          "name": "stdout",
          "text": [
            "6\n"
          ]
        }
      ],
      "source": [
        "#Função regular\n",
        "def soma (x, y):\n",
        "    return x + y\n",
        "\n",
        "\n",
        "valor1 = soma(2,4)\n",
        "\n",
        "print(valor1)"
      ]
    },
    {
      "cell_type": "code",
      "source": [
        "# Função Lambda\n",
        "soma = lambda x, y: print(x + y)\n"
      ],
      "metadata": {
        "id": "fREoJMmC6T2K"
      },
      "execution_count": 6,
      "outputs": []
    },
    {
      "cell_type": "code",
      "source": [
        "soma (5,6)"
      ],
      "metadata": {
        "colab": {
          "base_uri": "https://localhost:8080/"
        },
        "id": "0VcHmV3l6dvf",
        "outputId": "52dff6cf-d116-425a-cc19-08c7aa422ea3"
      },
      "execution_count": 7,
      "outputs": [
        {
          "output_type": "stream",
          "name": "stdout",
          "text": [
            "11\n"
          ]
        }
      ]
    },
    {
      "cell_type": "code",
      "source": [],
      "metadata": {
        "id": "LQKVjA7J6gE8"
      },
      "execution_count": 7,
      "outputs": []
    }
  ]
}